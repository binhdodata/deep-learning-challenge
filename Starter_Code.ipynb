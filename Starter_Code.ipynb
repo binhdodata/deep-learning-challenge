{
 "cells": [
  {
   "cell_type": "markdown",
   "metadata": {},
   "source": [
    "## Preprocessing"
   ]
  },
  {
   "cell_type": "code",
   "execution_count": 4,
   "metadata": {},
   "outputs": [
    {
     "name": "stdout",
     "output_type": "stream",
     "text": [
      "        EIN                                      NAME APPLICATION_TYPE  \\\n",
      "0  10520599              BLUE KNIGHTS MOTORCYCLE CLUB              T10   \n",
      "1  10531628    AMERICAN CHESAPEAKE CLUB CHARITABLE TR               T3   \n",
      "2  10547893        ST CLOUD PROFESSIONAL FIREFIGHTERS               T5   \n",
      "3  10553066            SOUTHSIDE ATHLETIC ASSOCIATION               T3   \n",
      "4  10556103  GENETIC RESEARCH INSTITUTE OF THE DESERT               T3   \n",
      "\n",
      "        AFFILIATION CLASSIFICATION      USE_CASE  ORGANIZATION  STATUS  \\\n",
      "0       Independent          C1000    ProductDev   Association       1   \n",
      "1       Independent          C2000  Preservation  Co-operative       1   \n",
      "2  CompanySponsored          C3000    ProductDev   Association       1   \n",
      "3  CompanySponsored          C2000  Preservation         Trust       1   \n",
      "4       Independent          C1000     Heathcare         Trust       1   \n",
      "\n",
      "      INCOME_AMT SPECIAL_CONSIDERATIONS  ASK_AMT  IS_SUCCESSFUL  \n",
      "0              0                      N     5000              1  \n",
      "1         1-9999                      N   108590              1  \n",
      "2              0                      N     5000              0  \n",
      "3    10000-24999                      N     6692              1  \n",
      "4  100000-499999                      N   142590              1  \n",
      "Index(['EIN', 'NAME', 'APPLICATION_TYPE', 'AFFILIATION', 'CLASSIFICATION',\n",
      "       'USE_CASE', 'ORGANIZATION', 'STATUS', 'INCOME_AMT',\n",
      "       'SPECIAL_CONSIDERATIONS', 'ASK_AMT', 'IS_SUCCESSFUL'],\n",
      "      dtype='object')\n"
     ]
    }
   ],
   "source": [
    "# Import our dependencies\n",
    "from sklearn.model_selection import train_test_split\n",
    "from sklearn.preprocessing import StandardScaler\n",
    "import pandas as pd\n",
    "import tensorflow as tf\n",
    "\n",
    "#  Import and read the charity_data.csv.\n",
    "import pandas as pd \n",
    "application_df = pd.read_csv(\"https://static.bc-edx.com/data/dl-1-2/m21/lms/starter/charity_data.csv\")\n",
    "application_df.head()\n"
   ]
  },
  {
   "cell_type": "code",
   "execution_count": 23,
   "metadata": {},
   "outputs": [],
   "source": [
    "# Drop the non-beneficial ID columns, 'EIN' and 'NAME'.\n",
    "application_df = application_df.drop(columns=['EIN', 'NAME'])\n"
   ]
  },
  {
   "cell_type": "code",
   "execution_count": 24,
   "metadata": {},
   "outputs": [],
   "source": [
    "# Determine the number of unique values in each column.\n",
    "unique_counts = application_df.nunique()\n"
   ]
  },
  {
   "cell_type": "code",
   "execution_count": 25,
   "metadata": {},
   "outputs": [
    {
     "name": "stdout",
     "output_type": "stream",
     "text": [
      "T3     27037\n",
      "T4      1542\n",
      "T6      1216\n",
      "T5      1173\n",
      "T19     1065\n",
      "T8       737\n",
      "T7       725\n",
      "T10      528\n",
      "T9       156\n",
      "T13       66\n",
      "T12       27\n",
      "T2        16\n",
      "T25        3\n",
      "T14        3\n",
      "T29        2\n",
      "T15        2\n",
      "T17        1\n",
      "Name: APPLICATION_TYPE, dtype: int64\n"
     ]
    }
   ],
   "source": [
    "# Look at APPLICATION_TYPE value counts for binning\n",
    "app_type_counts = application_df['APPLICATION_TYPE'].value_counts()\n",
    "print(app_type_counts)\n"
   ]
  },
  {
   "cell_type": "code",
   "execution_count": 26,
   "metadata": {},
   "outputs": [
    {
     "data": {
      "text/plain": [
       "T3       27037\n",
       "T4        1542\n",
       "T6        1216\n",
       "T5        1173\n",
       "T19       1065\n",
       "T8         737\n",
       "T7         725\n",
       "T10        528\n",
       "Other      276\n",
       "Name: APPLICATION_TYPE, dtype: int64"
      ]
     },
     "execution_count": 26,
     "metadata": {},
     "output_type": "execute_result"
    }
   ],
   "source": [
    "# Choose a cutoff value and create a list of application types to be replaced\n",
    "# use the variable name `application_types_to_replace`\n",
    "application_types_to_replace = list(app_type_counts[app_type_counts < 500].index)\n",
    "\n",
    "# Replace in dataframe\n",
    "for app in application_types_to_replace:\n",
    "    application_df['APPLICATION_TYPE'] = application_df['APPLICATION_TYPE'].replace(app,\"Other\")\n",
    "\n",
    "# Check to make sure binning was successful\n",
    "application_df['APPLICATION_TYPE'].value_counts()"
   ]
  },
  {
   "cell_type": "code",
   "execution_count": 27,
   "metadata": {},
   "outputs": [
    {
     "data": {
      "text/plain": [
       "C1000    17326\n",
       "C2000     6074\n",
       "C1200     4837\n",
       "C3000     1918\n",
       "C2100     1883\n",
       "         ...  \n",
       "C4120        1\n",
       "C8210        1\n",
       "C2561        1\n",
       "C4500        1\n",
       "C2150        1\n",
       "Name: CLASSIFICATION, Length: 71, dtype: int64"
      ]
     },
     "execution_count": 27,
     "metadata": {},
     "output_type": "execute_result"
    }
   ],
   "source": [
    "# Look at CLASSIFICATION value counts for binning\n",
    "classification_counts = application_df['CLASSIFICATION'].value_counts()\n",
    "classification_counts\n"
   ]
  },
  {
   "cell_type": "code",
   "execution_count": 28,
   "metadata": {},
   "outputs": [
    {
     "name": "stdout",
     "output_type": "stream",
     "text": [
      "C1000    17326\n",
      "C2000     6074\n",
      "C1200     4837\n",
      "C3000     1918\n",
      "C2100     1883\n",
      "C7000      777\n",
      "C1700      287\n",
      "C4000      194\n",
      "C5000      116\n",
      "C1270      114\n",
      "C2700      104\n",
      "C2800       95\n",
      "C7100       75\n",
      "C1300       58\n",
      "C1280       50\n",
      "C1230       36\n",
      "C1400       34\n",
      "C7200       32\n",
      "C2300       32\n",
      "C1240       30\n",
      "C8000       20\n",
      "C7120       18\n",
      "C1500       16\n",
      "C1800       15\n",
      "C6000       15\n",
      "C1250       14\n",
      "C8200       11\n",
      "C1238       10\n",
      "C1278       10\n",
      "C1235        9\n",
      "C1237        9\n",
      "C7210        7\n",
      "C2400        6\n",
      "C1720        6\n",
      "C4100        6\n",
      "C1257        5\n",
      "C1600        5\n",
      "C1260        3\n",
      "C2710        3\n",
      "C0           3\n",
      "C3200        2\n",
      "C1234        2\n",
      "C1246        2\n",
      "C1267        2\n",
      "C1256        2\n",
      "Name: CLASSIFICATION, dtype: int64\n"
     ]
    }
   ],
   "source": [
    "# You may find it helpful to look at CLASSIFICATION value counts >1\n",
    "classification_counts = application_df['CLASSIFICATION'].value_counts()\n",
    "classification_counts_over1 = classification_counts[classification_counts > 1]\n",
    "print(classification_counts_over1)"
   ]
  },
  {
   "cell_type": "code",
   "execution_count": 29,
   "metadata": {},
   "outputs": [
    {
     "data": {
      "text/plain": [
       "C1000    17326\n",
       "C2000     6074\n",
       "C1200     4837\n",
       "C3000     1918\n",
       "C2100     1883\n",
       "C7000      777\n",
       "Other      391\n",
       "C1700      287\n",
       "C4000      194\n",
       "C5000      116\n",
       "C1270      114\n",
       "C2700      104\n",
       "C2800       95\n",
       "C7100       75\n",
       "C1300       58\n",
       "C1280       50\n",
       "Name: CLASSIFICATION, dtype: int64"
      ]
     },
     "execution_count": 29,
     "metadata": {},
     "output_type": "execute_result"
    }
   ],
   "source": [
    "# Choose a cutoff value and create a list of classifications to be replaced\n",
    "# use the variable name `classifications_to_replace`\n",
    "classifications_to_replace = classification_counts[classification_counts < 50].index\n",
    "\n",
    "# Replace in dataframe\n",
    "for cls in classifications_to_replace:\n",
    "    application_df['CLASSIFICATION'] = application_df['CLASSIFICATION'].replace(cls,\"Other\")\n",
    "    \n",
    "# Check to make sure binning was successful\n",
    "application_df['CLASSIFICATION'].value_counts()"
   ]
  },
  {
   "cell_type": "code",
   "execution_count": 30,
   "metadata": {},
   "outputs": [],
   "source": [
    "# Convert categorical data to numeric with `pd.get_dummies`\n",
    "application_df = pd.get_dummies(application_df)\n"
   ]
  },
  {
   "cell_type": "code",
   "execution_count": 31,
   "metadata": {},
   "outputs": [
    {
     "name": "stderr",
     "output_type": "stream",
     "text": [
      "C:\\Users\\binhd\\AppData\\Local\\Temp\\ipykernel_23104\\1022355712.py:3: FutureWarning: In a future version of pandas all arguments of DataFrame.drop except for the argument 'labels' will be keyword-only.\n",
      "  X = application_df.drop([\"IS_SUCCESSFUL\"],1).values\n"
     ]
    }
   ],
   "source": [
    "# Split our preprocessed data into our features and target arrays\n",
    "y = application_df[\"IS_SUCCESSFUL\"].values\n",
    "X = application_df.drop([\"IS_SUCCESSFUL\"],1).values\n",
    "\n",
    "# Split the preprocessed data into a training and testing dataset\n",
    "from sklearn.model_selection import train_test_split\n",
    "\n",
    "X_train, X_test, y_train, y_test = train_test_split(X, y, random_state=78)\n"
   ]
  },
  {
   "cell_type": "code",
   "execution_count": 8,
   "metadata": {},
   "outputs": [
    {
     "name": "stdout",
     "output_type": "stream",
     "text": [
      "Target Variable: IS_SUCCESSFUL\n",
      "Features: EIN, NAME, APPLICATION_TYPE, AFFILIATION, CLASSIFICATION, USE_CASE, ORGANIZATION, STATUS, INCOME_AMT, SPECIAL_CONSIDERATIONS, ASK_AMT\n"
     ]
    }
   ],
   "source": [
    "# Assuming 'IS_SUCCESSFUL' is the target column and all others are features\n",
    "target = \"IS_SUCCESSFUL\"\n",
    "features = application_df.columns[application_df.columns != target]\n",
    "print(f\"Target Variable: {target}\")\n",
    "print(f\"Features: {', '.join(features)}\")\n"
   ]
  },
  {
   "cell_type": "code",
   "execution_count": 32,
   "metadata": {},
   "outputs": [],
   "source": [
    "# Create a StandardScaler instances\n",
    "scaler = StandardScaler()\n",
    "\n",
    "# Fit the StandardScaler\n",
    "X_scaler = scaler.fit(X_train)\n",
    "\n",
    "# Scale the data\n",
    "X_train_scaled = X_scaler.transform(X_train)\n",
    "X_test_scaled = X_scaler.transform(X_test)"
   ]
  },
  {
   "cell_type": "markdown",
   "metadata": {},
   "source": [
    "## Compile, Train and Evaluate the Model"
   ]
  },
  {
   "cell_type": "code",
   "execution_count": 33,
   "metadata": {},
   "outputs": [
    {
     "name": "stdout",
     "output_type": "stream",
     "text": [
      "Model: \"sequential_1\"\n",
      "_________________________________________________________________\n",
      " Layer (type)                Output Shape              Param #   \n",
      "=================================================================\n",
      " dense_3 (Dense)             (None, 80)                4320      \n",
      "                                                                 \n",
      " dense_4 (Dense)             (None, 30)                2430      \n",
      "                                                                 \n",
      " dense_5 (Dense)             (None, 1)                 31        \n",
      "                                                                 \n",
      "=================================================================\n",
      "Total params: 6781 (26.49 KB)\n",
      "Trainable params: 6781 (26.49 KB)\n",
      "Non-trainable params: 0 (0.00 Byte)\n",
      "_________________________________________________________________\n"
     ]
    }
   ],
   "source": [
    "# Define the model - deep neural net, i.e., the number of input features and hidden nodes for each layer.\n",
    "number_input_features = len(X_train[0])\n",
    "hidden_nodes_layer1 =  80\n",
    "hidden_nodes_layer2 = 30\n",
    "\n",
    "nn = tf.keras.models.Sequential()\n",
    "\n",
    "# First hidden layer\n",
    "nn.add(\n",
    "    tf.keras.layers.Dense(units=hidden_nodes_layer1, input_dim=number_input_features, activation=\"relu\")\n",
    ")\n",
    "\n",
    "# Second hidden layer\n",
    "nn.add(tf.keras.layers.Dense(units=hidden_nodes_layer2, activation=\"relu\"))\n",
    "\n",
    "# Output layer\n",
    "nn.add(tf.keras.layers.Dense(units=1, activation=\"sigmoid\"))\n",
    "\n",
    "# Check the structure of the model\n",
    "nn.summary()\n",
    "\n"
   ]
  },
  {
   "cell_type": "code",
   "execution_count": 34,
   "metadata": {},
   "outputs": [],
   "source": [
    "# Compile the model\n",
    "nn.compile(optimizer='adam', loss='binary_crossentropy', metrics=['accuracy'])\n"
   ]
  },
  {
   "cell_type": "code",
   "execution_count": 35,
   "metadata": {},
   "outputs": [
    {
     "name": "stdout",
     "output_type": "stream",
     "text": [
      "Epoch 1/100\n",
      "804/804 [==============================] - 1s 1ms/step - loss: 49470.0195 - accuracy: 0.4955 - val_loss: 10144.5908 - val_accuracy: 0.4668\n",
      "Epoch 2/100\n",
      "804/804 [==============================] - 1s 1ms/step - loss: 22094.0703 - accuracy: 0.5053 - val_loss: 1524.9816 - val_accuracy: 0.4668\n",
      "Epoch 3/100\n",
      "804/804 [==============================] - 1s 975us/step - loss: 32907.0977 - accuracy: 0.4847 - val_loss: 115029.4375 - val_accuracy: 0.5332\n",
      "Epoch 4/100\n",
      "804/804 [==============================] - 1s 903us/step - loss: 15333.2871 - accuracy: 0.4989 - val_loss: 15075.2715 - val_accuracy: 0.5332\n",
      "Epoch 5/100\n",
      "804/804 [==============================] - 1s 993us/step - loss: 23335.1035 - accuracy: 0.4977 - val_loss: 3797.3525 - val_accuracy: 0.4668\n",
      "Epoch 6/100\n",
      "804/804 [==============================] - 1s 1ms/step - loss: 15251.9482 - accuracy: 0.4973 - val_loss: 12550.0986 - val_accuracy: 0.5332\n",
      "Epoch 7/100\n",
      "804/804 [==============================] - 1s 1ms/step - loss: 20907.6367 - accuracy: 0.4941 - val_loss: 87631.0938 - val_accuracy: 0.5332\n",
      "Epoch 8/100\n",
      "804/804 [==============================] - 1s 1ms/step - loss: 21249.8633 - accuracy: 0.4937 - val_loss: 3416.5786 - val_accuracy: 0.4668\n",
      "Epoch 9/100\n",
      "804/804 [==============================] - 1s 985us/step - loss: 15892.5928 - accuracy: 0.5130 - val_loss: 209.3875 - val_accuracy: 0.6196\n",
      "Epoch 10/100\n",
      "804/804 [==============================] - 1s 1ms/step - loss: 15379.4121 - accuracy: 0.4960 - val_loss: 3875.0911 - val_accuracy: 0.4668\n",
      "Epoch 11/100\n",
      "804/804 [==============================] - 1s 1ms/step - loss: 6471.0952 - accuracy: 0.4974 - val_loss: 5243.3667 - val_accuracy: 0.4668\n",
      "Epoch 12/100\n",
      "804/804 [==============================] - 1s 1ms/step - loss: 18030.4395 - accuracy: 0.4957 - val_loss: 1466.4973 - val_accuracy: 0.4668\n",
      "Epoch 13/100\n",
      "804/804 [==============================] - 1s 1ms/step - loss: 10002.1777 - accuracy: 0.5241 - val_loss: 7412.1919 - val_accuracy: 0.4668\n",
      "Epoch 14/100\n",
      "804/804 [==============================] - 1s 928us/step - loss: 10768.3281 - accuracy: 0.5123 - val_loss: 574.8106 - val_accuracy: 0.5332\n",
      "Epoch 15/100\n",
      "804/804 [==============================] - 1s 1ms/step - loss: 3907.8945 - accuracy: 0.4993 - val_loss: 7054.1787 - val_accuracy: 0.4668\n",
      "Epoch 16/100\n",
      "804/804 [==============================] - 1s 1ms/step - loss: 5201.2876 - accuracy: 0.5119 - val_loss: 443.5189 - val_accuracy: 0.6052\n",
      "Epoch 17/100\n",
      "804/804 [==============================] - 1s 944us/step - loss: 3354.3350 - accuracy: 0.5249 - val_loss: 871.8854 - val_accuracy: 0.4668\n",
      "Epoch 18/100\n",
      "804/804 [==============================] - 1s 1ms/step - loss: 3490.2310 - accuracy: 0.5100 - val_loss: 175.7816 - val_accuracy: 0.5067\n",
      "Epoch 19/100\n",
      "804/804 [==============================] - 1s 987us/step - loss: 1189.7191 - accuracy: 0.5166 - val_loss: 631.7586 - val_accuracy: 0.5332\n",
      "Epoch 20/100\n",
      "804/804 [==============================] - 1s 1ms/step - loss: 106.6824 - accuracy: 0.5035 - val_loss: 58.3497 - val_accuracy: 0.5332\n",
      "Epoch 21/100\n",
      "804/804 [==============================] - 1s 1ms/step - loss: 89.4840 - accuracy: 0.5150 - val_loss: 0.6941 - val_accuracy: 0.5332\n",
      "Epoch 22/100\n",
      "804/804 [==============================] - 1s 991us/step - loss: 0.6917 - accuracy: 0.5321 - val_loss: 0.6909 - val_accuracy: 0.5332\n",
      "Epoch 23/100\n",
      "804/804 [==============================] - 1s 1ms/step - loss: 0.6912 - accuracy: 0.5321 - val_loss: 0.6910 - val_accuracy: 0.5332\n",
      "Epoch 24/100\n",
      "804/804 [==============================] - 1s 1ms/step - loss: 0.6911 - accuracy: 0.5321 - val_loss: 0.6909 - val_accuracy: 0.5332\n",
      "Epoch 25/100\n",
      "804/804 [==============================] - 1s 1ms/step - loss: 0.6911 - accuracy: 0.5321 - val_loss: 0.6910 - val_accuracy: 0.5332\n",
      "Epoch 26/100\n",
      "804/804 [==============================] - 1s 1ms/step - loss: 0.6912 - accuracy: 0.5321 - val_loss: 0.6910 - val_accuracy: 0.5332\n",
      "Epoch 27/100\n",
      "804/804 [==============================] - 1s 1ms/step - loss: 0.6911 - accuracy: 0.5321 - val_loss: 0.6910 - val_accuracy: 0.5332\n",
      "Epoch 28/100\n",
      "804/804 [==============================] - 1s 1ms/step - loss: 0.6912 - accuracy: 0.5321 - val_loss: 0.6909 - val_accuracy: 0.5332\n",
      "Epoch 29/100\n",
      "804/804 [==============================] - 1s 1ms/step - loss: 0.6912 - accuracy: 0.5321 - val_loss: 0.6910 - val_accuracy: 0.5332\n",
      "Epoch 30/100\n",
      "804/804 [==============================] - 1s 1ms/step - loss: 0.6911 - accuracy: 0.5321 - val_loss: 0.6911 - val_accuracy: 0.5332\n",
      "Epoch 31/100\n",
      "804/804 [==============================] - 1s 1ms/step - loss: 0.6912 - accuracy: 0.5321 - val_loss: 0.6910 - val_accuracy: 0.5332\n",
      "Epoch 32/100\n",
      "804/804 [==============================] - 1s 988us/step - loss: 0.6912 - accuracy: 0.5321 - val_loss: 0.6910 - val_accuracy: 0.5332\n",
      "Epoch 33/100\n",
      "804/804 [==============================] - 1s 809us/step - loss: 0.6912 - accuracy: 0.5321 - val_loss: 0.6909 - val_accuracy: 0.5332\n",
      "Epoch 34/100\n",
      "804/804 [==============================] - 1s 877us/step - loss: 0.6912 - accuracy: 0.5321 - val_loss: 0.6910 - val_accuracy: 0.5332\n",
      "Epoch 35/100\n",
      "804/804 [==============================] - 1s 935us/step - loss: 0.6912 - accuracy: 0.5321 - val_loss: 0.6909 - val_accuracy: 0.5332\n",
      "Epoch 36/100\n",
      "804/804 [==============================] - 1s 1ms/step - loss: 0.6912 - accuracy: 0.5321 - val_loss: 0.6910 - val_accuracy: 0.5332\n",
      "Epoch 37/100\n",
      "804/804 [==============================] - 1s 1ms/step - loss: 0.6912 - accuracy: 0.5321 - val_loss: 0.6909 - val_accuracy: 0.5332\n",
      "Epoch 38/100\n",
      "804/804 [==============================] - 1s 865us/step - loss: 0.6912 - accuracy: 0.5321 - val_loss: 0.6909 - val_accuracy: 0.5332\n",
      "Epoch 39/100\n",
      "804/804 [==============================] - 1s 1ms/step - loss: 0.6912 - accuracy: 0.5321 - val_loss: 0.6910 - val_accuracy: 0.5332\n",
      "Epoch 40/100\n",
      "804/804 [==============================] - 1s 1ms/step - loss: 0.6911 - accuracy: 0.5321 - val_loss: 0.6910 - val_accuracy: 0.5332\n",
      "Epoch 41/100\n",
      "804/804 [==============================] - 1s 979us/step - loss: 0.6911 - accuracy: 0.5321 - val_loss: 0.6911 - val_accuracy: 0.5332\n",
      "Epoch 42/100\n",
      "804/804 [==============================] - 1s 1ms/step - loss: 0.6912 - accuracy: 0.5321 - val_loss: 0.6910 - val_accuracy: 0.5332\n",
      "Epoch 43/100\n",
      "804/804 [==============================] - 1s 1ms/step - loss: 0.6912 - accuracy: 0.5321 - val_loss: 0.6910 - val_accuracy: 0.5332\n",
      "Epoch 44/100\n",
      "804/804 [==============================] - 1s 886us/step - loss: 0.6912 - accuracy: 0.5321 - val_loss: 0.6911 - val_accuracy: 0.5332\n",
      "Epoch 45/100\n",
      "804/804 [==============================] - 1s 866us/step - loss: 0.6912 - accuracy: 0.5321 - val_loss: 0.6909 - val_accuracy: 0.5332\n",
      "Epoch 46/100\n",
      "804/804 [==============================] - 1s 840us/step - loss: 0.6912 - accuracy: 0.5321 - val_loss: 0.6912 - val_accuracy: 0.5332\n",
      "Epoch 47/100\n",
      "804/804 [==============================] - 1s 824us/step - loss: 0.6911 - accuracy: 0.5321 - val_loss: 0.6909 - val_accuracy: 0.5332\n",
      "Epoch 48/100\n",
      "804/804 [==============================] - 1s 865us/step - loss: 0.6912 - accuracy: 0.5321 - val_loss: 0.6909 - val_accuracy: 0.5332\n",
      "Epoch 49/100\n",
      "804/804 [==============================] - 1s 872us/step - loss: 0.6911 - accuracy: 0.5321 - val_loss: 0.6910 - val_accuracy: 0.5332\n",
      "Epoch 50/100\n",
      "804/804 [==============================] - 1s 871us/step - loss: 0.6912 - accuracy: 0.5321 - val_loss: 0.6910 - val_accuracy: 0.5332\n",
      "Epoch 51/100\n",
      "804/804 [==============================] - 1s 928us/step - loss: 0.6912 - accuracy: 0.5321 - val_loss: 0.6910 - val_accuracy: 0.5332\n",
      "Epoch 52/100\n",
      "804/804 [==============================] - 1s 873us/step - loss: 0.6913 - accuracy: 0.5321 - val_loss: 0.6909 - val_accuracy: 0.5332\n",
      "Epoch 53/100\n",
      "804/804 [==============================] - 1s 857us/step - loss: 0.6912 - accuracy: 0.5321 - val_loss: 0.6910 - val_accuracy: 0.5332\n",
      "Epoch 54/100\n",
      "804/804 [==============================] - 1s 1ms/step - loss: 0.6913 - accuracy: 0.5321 - val_loss: 0.6911 - val_accuracy: 0.5332\n",
      "Epoch 55/100\n",
      "804/804 [==============================] - 1s 1ms/step - loss: 0.6913 - accuracy: 0.5321 - val_loss: 0.6911 - val_accuracy: 0.5332\n",
      "Epoch 56/100\n",
      "804/804 [==============================] - 1s 875us/step - loss: 0.6913 - accuracy: 0.5321 - val_loss: 0.6910 - val_accuracy: 0.5332\n",
      "Epoch 57/100\n",
      "804/804 [==============================] - 1s 1ms/step - loss: 0.6913 - accuracy: 0.5321 - val_loss: 0.6913 - val_accuracy: 0.5332\n",
      "Epoch 58/100\n",
      "804/804 [==============================] - 1s 1ms/step - loss: 0.6913 - accuracy: 0.5321 - val_loss: 0.6910 - val_accuracy: 0.5332\n",
      "Epoch 59/100\n",
      "804/804 [==============================] - 1s 1ms/step - loss: 0.6915 - accuracy: 0.5321 - val_loss: 0.6911 - val_accuracy: 0.5332\n",
      "Epoch 60/100\n",
      "804/804 [==============================] - 1s 848us/step - loss: 0.6914 - accuracy: 0.5321 - val_loss: 0.6910 - val_accuracy: 0.5332\n",
      "Epoch 61/100\n",
      "804/804 [==============================] - 1s 931us/step - loss: 0.6913 - accuracy: 0.5321 - val_loss: 0.6915 - val_accuracy: 0.5332\n",
      "Epoch 62/100\n",
      "804/804 [==============================] - 1s 872us/step - loss: 0.6914 - accuracy: 0.5321 - val_loss: 0.6911 - val_accuracy: 0.5332\n",
      "Epoch 63/100\n",
      "804/804 [==============================] - 1s 855us/step - loss: 0.6913 - accuracy: 0.5321 - val_loss: 0.6910 - val_accuracy: 0.5332\n",
      "Epoch 64/100\n",
      "804/804 [==============================] - 1s 868us/step - loss: 0.6913 - accuracy: 0.5321 - val_loss: 0.6910 - val_accuracy: 0.5332\n",
      "Epoch 65/100\n",
      "804/804 [==============================] - 1s 907us/step - loss: 0.6914 - accuracy: 0.5321 - val_loss: 0.6910 - val_accuracy: 0.5332\n",
      "Epoch 66/100\n",
      "804/804 [==============================] - 1s 823us/step - loss: 0.6914 - accuracy: 0.5321 - val_loss: 0.6911 - val_accuracy: 0.5332\n",
      "Epoch 67/100\n",
      "804/804 [==============================] - 1s 890us/step - loss: 0.6913 - accuracy: 0.5321 - val_loss: 0.6911 - val_accuracy: 0.5332\n",
      "Epoch 68/100\n",
      "804/804 [==============================] - 1s 875us/step - loss: 0.6913 - accuracy: 0.5321 - val_loss: 0.6914 - val_accuracy: 0.5332\n",
      "Epoch 69/100\n",
      "804/804 [==============================] - 1s 895us/step - loss: 0.6911 - accuracy: 0.5321 - val_loss: 0.6919 - val_accuracy: 0.5332\n",
      "Epoch 70/100\n",
      "804/804 [==============================] - 1s 957us/step - loss: 0.6914 - accuracy: 0.5321 - val_loss: 0.6910 - val_accuracy: 0.5332\n",
      "Epoch 71/100\n",
      "804/804 [==============================] - 1s 960us/step - loss: 0.6913 - accuracy: 0.5321 - val_loss: 0.6909 - val_accuracy: 0.5332\n",
      "Epoch 72/100\n",
      "804/804 [==============================] - 1s 965us/step - loss: 0.6914 - accuracy: 0.5321 - val_loss: 0.6909 - val_accuracy: 0.5332\n",
      "Epoch 73/100\n",
      "804/804 [==============================] - 1s 919us/step - loss: 0.6914 - accuracy: 0.5321 - val_loss: 0.6913 - val_accuracy: 0.5332\n",
      "Epoch 74/100\n",
      "804/804 [==============================] - 1s 1ms/step - loss: 0.6913 - accuracy: 0.5321 - val_loss: 0.6911 - val_accuracy: 0.5332\n",
      "Epoch 75/100\n",
      "804/804 [==============================] - 1s 1ms/step - loss: 0.6914 - accuracy: 0.5321 - val_loss: 0.6912 - val_accuracy: 0.5332\n",
      "Epoch 76/100\n",
      "804/804 [==============================] - 1s 862us/step - loss: 0.6913 - accuracy: 0.5321 - val_loss: 0.6911 - val_accuracy: 0.5332\n",
      "Epoch 77/100\n",
      "804/804 [==============================] - 1s 909us/step - loss: 0.6914 - accuracy: 0.5321 - val_loss: 0.6909 - val_accuracy: 0.5332\n",
      "Epoch 78/100\n",
      "804/804 [==============================] - 1s 1ms/step - loss: 0.6913 - accuracy: 0.5321 - val_loss: 0.6911 - val_accuracy: 0.5332\n",
      "Epoch 79/100\n",
      "804/804 [==============================] - 1s 1ms/step - loss: 0.6914 - accuracy: 0.5321 - val_loss: 0.6910 - val_accuracy: 0.5332\n",
      "Epoch 80/100\n",
      "804/804 [==============================] - 1s 1ms/step - loss: 0.6913 - accuracy: 0.5321 - val_loss: 0.6910 - val_accuracy: 0.5332\n",
      "Epoch 81/100\n",
      "804/804 [==============================] - 1s 968us/step - loss: 0.6914 - accuracy: 0.5321 - val_loss: 0.6911 - val_accuracy: 0.5332\n",
      "Epoch 82/100\n",
      "804/804 [==============================] - 1s 1ms/step - loss: 0.6913 - accuracy: 0.5321 - val_loss: 0.6916 - val_accuracy: 0.5332\n",
      "Epoch 83/100\n",
      "804/804 [==============================] - 1s 1ms/step - loss: 0.6913 - accuracy: 0.5321 - val_loss: 0.6927 - val_accuracy: 0.5332\n",
      "Epoch 84/100\n",
      "804/804 [==============================] - 1s 1ms/step - loss: 0.6912 - accuracy: 0.5297 - val_loss: 0.6924 - val_accuracy: 0.5332\n",
      "Epoch 85/100\n",
      "804/804 [==============================] - 1s 898us/step - loss: 0.6914 - accuracy: 0.5321 - val_loss: 0.6910 - val_accuracy: 0.5332\n",
      "Epoch 86/100\n",
      "804/804 [==============================] - 1s 839us/step - loss: 0.6914 - accuracy: 0.5321 - val_loss: 0.6911 - val_accuracy: 0.5332\n",
      "Epoch 87/100\n",
      "804/804 [==============================] - 1s 1ms/step - loss: 0.6913 - accuracy: 0.5321 - val_loss: 0.6910 - val_accuracy: 0.5332\n",
      "Epoch 88/100\n",
      "804/804 [==============================] - 1s 1ms/step - loss: 0.6914 - accuracy: 0.5321 - val_loss: 0.6909 - val_accuracy: 0.5332\n",
      "Epoch 89/100\n",
      "804/804 [==============================] - 1s 943us/step - loss: 0.6913 - accuracy: 0.5321 - val_loss: 0.6912 - val_accuracy: 0.5332\n",
      "Epoch 90/100\n",
      "804/804 [==============================] - 1s 871us/step - loss: 0.6913 - accuracy: 0.5321 - val_loss: 0.6914 - val_accuracy: 0.5332\n",
      "Epoch 91/100\n",
      "804/804 [==============================] - 1s 1ms/step - loss: 0.6911 - accuracy: 0.5321 - val_loss: 0.6911 - val_accuracy: 0.5332\n",
      "Epoch 92/100\n",
      "804/804 [==============================] - 1s 970us/step - loss: 0.6913 - accuracy: 0.5321 - val_loss: 0.6910 - val_accuracy: 0.5332\n",
      "Epoch 93/100\n",
      "804/804 [==============================] - 1s 1ms/step - loss: 0.6914 - accuracy: 0.5321 - val_loss: 0.6913 - val_accuracy: 0.5332\n",
      "Epoch 94/100\n",
      "804/804 [==============================] - 1s 898us/step - loss: 0.6914 - accuracy: 0.5321 - val_loss: 0.6909 - val_accuracy: 0.5332\n",
      "Epoch 95/100\n",
      "804/804 [==============================] - 1s 1ms/step - loss: 0.6913 - accuracy: 0.5321 - val_loss: 0.6911 - val_accuracy: 0.5332\n",
      "Epoch 96/100\n",
      "804/804 [==============================] - 1s 1ms/step - loss: 0.6913 - accuracy: 0.5321 - val_loss: 0.6910 - val_accuracy: 0.5332\n",
      "Epoch 97/100\n",
      "804/804 [==============================] - 1s 1ms/step - loss: 0.6913 - accuracy: 0.5321 - val_loss: 0.6909 - val_accuracy: 0.5332\n",
      "Epoch 98/100\n",
      "804/804 [==============================] - 1s 1ms/step - loss: 0.6913 - accuracy: 0.5321 - val_loss: 0.6910 - val_accuracy: 0.5332\n",
      "Epoch 99/100\n",
      "804/804 [==============================] - 1s 1ms/step - loss: 0.6913 - accuracy: 0.5321 - val_loss: 0.6910 - val_accuracy: 0.5332\n",
      "Epoch 100/100\n",
      "804/804 [==============================] - 1s 1ms/step - loss: 0.6913 - accuracy: 0.5321 - val_loss: 0.6910 - val_accuracy: 0.5332\n"
     ]
    }
   ],
   "source": [
    "# Train the model\n",
    "fit_model = nn.fit(X_train, y_train, epochs=100, validation_data=(X_test, y_test))\n"
   ]
  },
  {
   "cell_type": "code",
   "execution_count": 36,
   "metadata": {},
   "outputs": [
    {
     "name": "stdout",
     "output_type": "stream",
     "text": [
      "268/268 - 0s - loss: 0.7158 - accuracy: 0.6999 - 278ms/epoch - 1ms/step\n",
      "Loss: 0.7157846689224243, Accuracy: 0.6999416947364807\n"
     ]
    }
   ],
   "source": [
    "# Evaluate the model using the test data\n",
    "model_loss, model_accuracy = nn.evaluate(X_test_scaled,y_test,verbose=2)\n",
    "print(f\"Loss: {model_loss}, Accuracy: {model_accuracy}\")"
   ]
  },
  {
   "cell_type": "code",
   "execution_count": 37,
   "metadata": {},
   "outputs": [
    {
     "name": "stderr",
     "output_type": "stream",
     "text": [
      "c:\\Users\\binhd\\anaconda3\\Lib\\site-packages\\keras\\src\\engine\\training.py:3000: UserWarning: You are saving your model as an HDF5 file via `model.save()`. This file format is considered legacy. We recommend using instead the native Keras format, e.g. `model.save('my_model.keras')`.\n",
      "  saving_api.save_model(\n"
     ]
    }
   ],
   "source": [
    "# Export our model to HDF5 file\n",
    "nn.save(\"AlphabetSoupCharity.h5\")\n"
   ]
  }
 ],
 "metadata": {
  "kernelspec": {
   "display_name": "Python 3",
   "language": "python",
   "name": "python3"
  },
  "language_info": {
   "codemirror_mode": {
    "name": "ipython",
    "version": 3
   },
   "file_extension": ".py",
   "mimetype": "text/x-python",
   "name": "python",
   "nbconvert_exporter": "python",
   "pygments_lexer": "ipython3",
   "version": "3.11.4"
  },
  "vscode": {
   "interpreter": {
    "hash": "31f2aee4e71d21fbe5cf8b01ff0e069b9275f58929596ceb00d14d90e3e16cd6"
   }
  }
 },
 "nbformat": 4,
 "nbformat_minor": 4
}
