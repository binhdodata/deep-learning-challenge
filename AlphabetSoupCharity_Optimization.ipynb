{
  "nbformat": 4,
  "nbformat_minor": 0,
  "metadata": {
    "colab": {
      "provenance": [],
      "toc_visible": true,
      "authorship_tag": "ABX9TyPZULKDKe33qLqey/mQarrX",
      "include_colab_link": true
    },
    "kernelspec": {
      "name": "python3",
      "display_name": "Python 3"
    },
    "language_info": {
      "name": "python"
    }
  },
  "cells": [
    {
      "cell_type": "markdown",
      "metadata": {
        "id": "view-in-github",
        "colab_type": "text"
      },
      "source": [
        "<a href=\"https://colab.research.google.com/github/binhdodata/deep-learning-challenge/blob/main/AlphabetSoupCharity_Optimization.ipynb\" target=\"_parent\"><img src=\"https://colab.research.google.com/assets/colab-badge.svg\" alt=\"Open In Colab\"/></a>"
      ]
    },
    {
      "cell_type": "code",
      "source": [
        "from google.colab import files\n",
        "uploaded = files.upload()\n"
      ],
      "metadata": {
        "colab": {
          "base_uri": "https://localhost:8080/",
          "height": 73
        },
        "id": "fiC_AtXcL33C",
        "outputId": "ef4816b1-b81f-4abb-a9b0-d71558086b5e"
      },
      "execution_count": 6,
      "outputs": [
        {
          "output_type": "display_data",
          "data": {
            "text/plain": [
              "<IPython.core.display.HTML object>"
            ],
            "text/html": [
              "\n",
              "     <input type=\"file\" id=\"files-27f4e118-4b75-4d3d-ace9-15c7cb31b8be\" name=\"files[]\" multiple disabled\n",
              "        style=\"border:none\" />\n",
              "     <output id=\"result-27f4e118-4b75-4d3d-ace9-15c7cb31b8be\">\n",
              "      Upload widget is only available when the cell has been executed in the\n",
              "      current browser session. Please rerun this cell to enable.\n",
              "      </output>\n",
              "      <script>// Copyright 2017 Google LLC\n",
              "//\n",
              "// Licensed under the Apache License, Version 2.0 (the \"License\");\n",
              "// you may not use this file except in compliance with the License.\n",
              "// You may obtain a copy of the License at\n",
              "//\n",
              "//      http://www.apache.org/licenses/LICENSE-2.0\n",
              "//\n",
              "// Unless required by applicable law or agreed to in writing, software\n",
              "// distributed under the License is distributed on an \"AS IS\" BASIS,\n",
              "// WITHOUT WARRANTIES OR CONDITIONS OF ANY KIND, either express or implied.\n",
              "// See the License for the specific language governing permissions and\n",
              "// limitations under the License.\n",
              "\n",
              "/**\n",
              " * @fileoverview Helpers for google.colab Python module.\n",
              " */\n",
              "(function(scope) {\n",
              "function span(text, styleAttributes = {}) {\n",
              "  const element = document.createElement('span');\n",
              "  element.textContent = text;\n",
              "  for (const key of Object.keys(styleAttributes)) {\n",
              "    element.style[key] = styleAttributes[key];\n",
              "  }\n",
              "  return element;\n",
              "}\n",
              "\n",
              "// Max number of bytes which will be uploaded at a time.\n",
              "const MAX_PAYLOAD_SIZE = 100 * 1024;\n",
              "\n",
              "function _uploadFiles(inputId, outputId) {\n",
              "  const steps = uploadFilesStep(inputId, outputId);\n",
              "  const outputElement = document.getElementById(outputId);\n",
              "  // Cache steps on the outputElement to make it available for the next call\n",
              "  // to uploadFilesContinue from Python.\n",
              "  outputElement.steps = steps;\n",
              "\n",
              "  return _uploadFilesContinue(outputId);\n",
              "}\n",
              "\n",
              "// This is roughly an async generator (not supported in the browser yet),\n",
              "// where there are multiple asynchronous steps and the Python side is going\n",
              "// to poll for completion of each step.\n",
              "// This uses a Promise to block the python side on completion of each step,\n",
              "// then passes the result of the previous step as the input to the next step.\n",
              "function _uploadFilesContinue(outputId) {\n",
              "  const outputElement = document.getElementById(outputId);\n",
              "  const steps = outputElement.steps;\n",
              "\n",
              "  const next = steps.next(outputElement.lastPromiseValue);\n",
              "  return Promise.resolve(next.value.promise).then((value) => {\n",
              "    // Cache the last promise value to make it available to the next\n",
              "    // step of the generator.\n",
              "    outputElement.lastPromiseValue = value;\n",
              "    return next.value.response;\n",
              "  });\n",
              "}\n",
              "\n",
              "/**\n",
              " * Generator function which is called between each async step of the upload\n",
              " * process.\n",
              " * @param {string} inputId Element ID of the input file picker element.\n",
              " * @param {string} outputId Element ID of the output display.\n",
              " * @return {!Iterable<!Object>} Iterable of next steps.\n",
              " */\n",
              "function* uploadFilesStep(inputId, outputId) {\n",
              "  const inputElement = document.getElementById(inputId);\n",
              "  inputElement.disabled = false;\n",
              "\n",
              "  const outputElement = document.getElementById(outputId);\n",
              "  outputElement.innerHTML = '';\n",
              "\n",
              "  const pickedPromise = new Promise((resolve) => {\n",
              "    inputElement.addEventListener('change', (e) => {\n",
              "      resolve(e.target.files);\n",
              "    });\n",
              "  });\n",
              "\n",
              "  const cancel = document.createElement('button');\n",
              "  inputElement.parentElement.appendChild(cancel);\n",
              "  cancel.textContent = 'Cancel upload';\n",
              "  const cancelPromise = new Promise((resolve) => {\n",
              "    cancel.onclick = () => {\n",
              "      resolve(null);\n",
              "    };\n",
              "  });\n",
              "\n",
              "  // Wait for the user to pick the files.\n",
              "  const files = yield {\n",
              "    promise: Promise.race([pickedPromise, cancelPromise]),\n",
              "    response: {\n",
              "      action: 'starting',\n",
              "    }\n",
              "  };\n",
              "\n",
              "  cancel.remove();\n",
              "\n",
              "  // Disable the input element since further picks are not allowed.\n",
              "  inputElement.disabled = true;\n",
              "\n",
              "  if (!files) {\n",
              "    return {\n",
              "      response: {\n",
              "        action: 'complete',\n",
              "      }\n",
              "    };\n",
              "  }\n",
              "\n",
              "  for (const file of files) {\n",
              "    const li = document.createElement('li');\n",
              "    li.append(span(file.name, {fontWeight: 'bold'}));\n",
              "    li.append(span(\n",
              "        `(${file.type || 'n/a'}) - ${file.size} bytes, ` +\n",
              "        `last modified: ${\n",
              "            file.lastModifiedDate ? file.lastModifiedDate.toLocaleDateString() :\n",
              "                                    'n/a'} - `));\n",
              "    const percent = span('0% done');\n",
              "    li.appendChild(percent);\n",
              "\n",
              "    outputElement.appendChild(li);\n",
              "\n",
              "    const fileDataPromise = new Promise((resolve) => {\n",
              "      const reader = new FileReader();\n",
              "      reader.onload = (e) => {\n",
              "        resolve(e.target.result);\n",
              "      };\n",
              "      reader.readAsArrayBuffer(file);\n",
              "    });\n",
              "    // Wait for the data to be ready.\n",
              "    let fileData = yield {\n",
              "      promise: fileDataPromise,\n",
              "      response: {\n",
              "        action: 'continue',\n",
              "      }\n",
              "    };\n",
              "\n",
              "    // Use a chunked sending to avoid message size limits. See b/62115660.\n",
              "    let position = 0;\n",
              "    do {\n",
              "      const length = Math.min(fileData.byteLength - position, MAX_PAYLOAD_SIZE);\n",
              "      const chunk = new Uint8Array(fileData, position, length);\n",
              "      position += length;\n",
              "\n",
              "      const base64 = btoa(String.fromCharCode.apply(null, chunk));\n",
              "      yield {\n",
              "        response: {\n",
              "          action: 'append',\n",
              "          file: file.name,\n",
              "          data: base64,\n",
              "        },\n",
              "      };\n",
              "\n",
              "      let percentDone = fileData.byteLength === 0 ?\n",
              "          100 :\n",
              "          Math.round((position / fileData.byteLength) * 100);\n",
              "      percent.textContent = `${percentDone}% done`;\n",
              "\n",
              "    } while (position < fileData.byteLength);\n",
              "  }\n",
              "\n",
              "  // All done.\n",
              "  yield {\n",
              "    response: {\n",
              "      action: 'complete',\n",
              "    }\n",
              "  };\n",
              "}\n",
              "\n",
              "scope.google = scope.google || {};\n",
              "scope.google.colab = scope.google.colab || {};\n",
              "scope.google.colab._files = {\n",
              "  _uploadFiles,\n",
              "  _uploadFilesContinue,\n",
              "};\n",
              "})(self);\n",
              "</script> "
            ]
          },
          "metadata": {}
        },
        {
          "output_type": "stream",
          "name": "stdout",
          "text": [
            "Saving charity_data.csv to charity_data.csv\n"
          ]
        }
      ]
    },
    {
      "cell_type": "markdown",
      "source": [
        "1. Import Dependencies and Load Data:"
      ],
      "metadata": {
        "id": "14EfIS_3MasT"
      }
    },
    {
      "cell_type": "code",
      "source": [
        "# Import dependencies\n",
        "import pandas as pd\n",
        "import numpy as np\n",
        "import tensorflow as tf\n",
        "from sklearn.model_selection import train_test_split\n",
        "from sklearn.preprocessing import StandardScaler\n",
        "from tensorflow.keras.layers import Dense, Dropout, BatchNormalization\n",
        "from tensorflow.keras.callbacks import EarlyStopping\n",
        "from sklearn.utils import class_weight\n",
        "\n",
        "# Load data\n",
        "data_path = \"charity_data.csv\"\n",
        "df = pd.read_csv(data_path)\n"
      ],
      "metadata": {
        "id": "5LK_grQJMA3b"
      },
      "execution_count": 57,
      "outputs": []
    },
    {
      "cell_type": "markdown",
      "source": [
        "Preprocess the Data:"
      ],
      "metadata": {
        "id": "K-6Z3qCBMgSj"
      }
    },
    {
      "cell_type": "code",
      "source": [
        "# Drop non-beneficial columns\n",
        "df = df.drop(columns=['EIN', 'NAME'])\n",
        "\n",
        "# Binning the APPLICATION_TYPE column\n",
        "application_counts = df['APPLICATION_TYPE'].value_counts()\n",
        "\n",
        "# Determine which values to replace if counts are below a certain threshold\n",
        "threshold = 500\n",
        "application_to_replace = list(application_counts[application_counts < threshold].index)\n",
        "\n",
        "# Replace in dataframe\n",
        "for app in application_to_replace:\n",
        "    df['APPLICATION_TYPE'] = df['APPLICATION_TYPE'].replace(app, \"Other\")\n",
        "\n",
        "# Check to make sure binning was successful\n",
        "print(df['APPLICATION_TYPE'].value_counts())"
      ],
      "metadata": {
        "colab": {
          "base_uri": "https://localhost:8080/"
        },
        "id": "Vb74tB0dME5x",
        "outputId": "2cd40611-960e-4dee-bf6d-608814788856"
      },
      "execution_count": 58,
      "outputs": [
        {
          "output_type": "stream",
          "name": "stdout",
          "text": [
            "T3       27037\n",
            "T4        1542\n",
            "T6        1216\n",
            "T5        1173\n",
            "T19       1065\n",
            "T8         737\n",
            "T7         725\n",
            "T10        528\n",
            "Other      276\n",
            "Name: APPLICATION_TYPE, dtype: int64\n"
          ]
        }
      ]
    },
    {
      "cell_type": "markdown",
      "source": [
        "Binning the CLASSIFICATION column:\n"
      ],
      "metadata": {
        "id": "DMUuCUQWMw-u"
      }
    },
    {
      "cell_type": "code",
      "source": [
        "classification_counts = df['CLASSIFICATION'].value_counts()\n",
        "\n",
        "# Determine which values to replace if counts are below a certain threshold\n",
        "threshold = 1500  # You can adjust this threshold based on your understanding of the data\n",
        "classification_to_replace = list(classification_counts[classification_counts < 15].index)\n",
        "\n",
        "# Replace in dataframe\n",
        "for cls in classification_to_replace:\n",
        "    df['CLASSIFICATION'] = df['CLASSIFICATION'].replace(cls, \"Other\")\n",
        "\n",
        "# Check to make sure binning was successful\n",
        "print(df['CLASSIFICATION'].value_counts())\n"
      ],
      "metadata": {
        "colab": {
          "base_uri": "https://localhost:8080/"
        },
        "id": "1MG2lrVVMx9s",
        "outputId": "e3c7742e-f229-4442-82cf-afcadad66d7c"
      },
      "execution_count": 59,
      "outputs": [
        {
          "output_type": "stream",
          "name": "stdout",
          "text": [
            "C1000    17326\n",
            "C2000     6074\n",
            "C1200     4837\n",
            "C3000     1918\n",
            "C2100     1883\n",
            "C7000      777\n",
            "C1700      287\n",
            "C4000      194\n",
            "Other      143\n",
            "C5000      116\n",
            "C1270      114\n",
            "C2700      104\n",
            "C2800       95\n",
            "C7100       75\n",
            "C1300       58\n",
            "C1280       50\n",
            "C1230       36\n",
            "C1400       34\n",
            "C2300       32\n",
            "C7200       32\n",
            "C1240       30\n",
            "C8000       20\n",
            "C7120       18\n",
            "C1500       16\n",
            "C1800       15\n",
            "C6000       15\n",
            "Name: CLASSIFICATION, dtype: int64\n"
          ]
        }
      ]
    },
    {
      "cell_type": "code",
      "source": [
        "# One-Hot Encoding\n",
        "df_encoded = pd.get_dummies(df)\n",
        "\n",
        "y = df_encoded[\"IS_SUCCESSFUL\"].values\n",
        "X = df_encoded.drop(columns=[\"IS_SUCCESSFUL\"]).values\n",
        "\n",
        "X_train, X_test, y_train, y_test = train_test_split(X, y, random_state=78)\n",
        "\n",
        "scaler = StandardScaler()\n",
        "X_train_scaled = scaler.fit_transform(X_train)\n",
        "X_test_scaled = scaler.transform(X_test)\n",
        "\n",
        "# Handling class imbalance (if any)\n",
        "class_weights = class_weight.compute_class_weight('balanced', classes=np.unique(y_train), y=y_train)\n",
        "class_weights_dict = {0: class_weights[0], 1: class_weights[1]}"
      ],
      "metadata": {
        "id": "3MZz9mTkM9E9"
      },
      "execution_count": 62,
      "outputs": []
    },
    {
      "cell_type": "markdown",
      "source": [
        "Design Neural Network **Model**"
      ],
      "metadata": {
        "id": "qM0do5k6NhQH"
      }
    },
    {
      "cell_type": "code",
      "source": [
        "\n",
        "# Initialize the model\n",
        "nn_optimized = tf.keras.models.Sequential()\n",
        "\n",
        "# Input layer\n",
        "input_features = X_train_scaled.shape[1]\n",
        "\n",
        "# First hidden layer with relu activation\n",
        "nn_optimized.add(Dense(units=128, input_dim=input_features, activation='relu'))\n",
        "nn_optimized.add(BatchNormalization())\n",
        "nn_optimized.add(Dropout(0.3))\n",
        "\n",
        "# Second hidden layer with relu activation\n",
        "nn_optimized.add(Dense(units=64, activation='relu'))\n",
        "nn_optimized.add(BatchNormalization())\n",
        "nn_optimized.add(Dropout(0.3))\n",
        "\n",
        "# Third hidden layer with relu activation\n",
        "nn_optimized.add(Dense(units=32, activation='relu'))\n",
        "nn_optimized.add(BatchNormalization())\n",
        "nn_optimized.add(Dropout(0.3))\n",
        "\n",
        "# Fourth hidden layer with tanh activation\n",
        "nn_optimized.add(Dense(units=16, activation='tanh'))\n",
        "\n",
        "# Output layer with sigmoid activation\n",
        "nn_optimized.add(Dense(units=1, activation='sigmoid'))\n",
        "\n",
        "# Optimizer with custom learning rate\n",
        "optimizer = tf.keras.optimizers.Adam(learning_rate=0.0005)\n",
        "\n",
        "# Compile the model\n",
        "nn_optimized.compile(loss='binary_crossentropy', optimizer=optimizer, metrics=['accuracy'])\n",
        "\n",
        "# Train the model\n",
        "fit_model = nn_optimized.fit(X_train_scaled, y_train, epochs=200, batch_size=32, validation_split=0.2, callbacks=[early_stopping])\n",
        "\n",
        "# Evaluate the model using test data\n",
        "model_loss, model_accuracy = nn_optimized.evaluate(X_test_scaled, y_test, verbose=2)\n",
        "print(f\"Loss: {model_loss}, Accuracy: {model_accuracy}\")\n"
      ],
      "metadata": {
        "colab": {
          "base_uri": "https://localhost:8080/"
        },
        "id": "_zc9RXiQaOUA",
        "outputId": "1f43337c-296e-4a85-eba3-ef9d24e61404"
      },
      "execution_count": 66,
      "outputs": [
        {
          "output_type": "stream",
          "name": "stdout",
          "text": [
            "Epoch 1/200\n",
            "644/644 [==============================] - 10s 12ms/step - loss: 0.6335 - accuracy: 0.6582 - val_loss: 0.5757 - val_accuracy: 0.7141\n",
            "Epoch 2/200\n",
            "644/644 [==============================] - 5s 6ms/step - loss: 0.5893 - accuracy: 0.7054 - val_loss: 0.5700 - val_accuracy: 0.7164\n",
            "Epoch 3/200\n",
            "644/644 [==============================] - 6s 10ms/step - loss: 0.5771 - accuracy: 0.7183 - val_loss: 0.5672 - val_accuracy: 0.7205\n",
            "Epoch 4/200\n",
            "644/644 [==============================] - 5s 7ms/step - loss: 0.5726 - accuracy: 0.7212 - val_loss: 0.5648 - val_accuracy: 0.7242\n",
            "Epoch 5/200\n",
            "644/644 [==============================] - 6s 9ms/step - loss: 0.5646 - accuracy: 0.7262 - val_loss: 0.5636 - val_accuracy: 0.7263\n",
            "Epoch 6/200\n",
            "644/644 [==============================] - 3s 5ms/step - loss: 0.5640 - accuracy: 0.7285 - val_loss: 0.5630 - val_accuracy: 0.7248\n",
            "Epoch 7/200\n",
            "644/644 [==============================] - 3s 5ms/step - loss: 0.5629 - accuracy: 0.7291 - val_loss: 0.5614 - val_accuracy: 0.7252\n",
            "Epoch 8/200\n",
            "644/644 [==============================] - 5s 8ms/step - loss: 0.5602 - accuracy: 0.7291 - val_loss: 0.5618 - val_accuracy: 0.7236\n",
            "Epoch 9/200\n",
            "644/644 [==============================] - 5s 8ms/step - loss: 0.5576 - accuracy: 0.7315 - val_loss: 0.5609 - val_accuracy: 0.7242\n",
            "Epoch 10/200\n",
            "644/644 [==============================] - 5s 8ms/step - loss: 0.5570 - accuracy: 0.7297 - val_loss: 0.5591 - val_accuracy: 0.7236\n",
            "Epoch 11/200\n",
            "644/644 [==============================] - 5s 8ms/step - loss: 0.5564 - accuracy: 0.7316 - val_loss: 0.5593 - val_accuracy: 0.7248\n",
            "Epoch 12/200\n",
            "644/644 [==============================] - 4s 6ms/step - loss: 0.5537 - accuracy: 0.7311 - val_loss: 0.5590 - val_accuracy: 0.7250\n",
            "Epoch 13/200\n",
            "644/644 [==============================] - 5s 8ms/step - loss: 0.5538 - accuracy: 0.7313 - val_loss: 0.5588 - val_accuracy: 0.7244\n",
            "Epoch 14/200\n",
            "644/644 [==============================] - 4s 6ms/step - loss: 0.5537 - accuracy: 0.7331 - val_loss: 0.5586 - val_accuracy: 0.7246\n",
            "Epoch 15/200\n",
            "644/644 [==============================] - 4s 6ms/step - loss: 0.5517 - accuracy: 0.7328 - val_loss: 0.5583 - val_accuracy: 0.7242\n",
            "Epoch 16/200\n",
            "644/644 [==============================] - 4s 7ms/step - loss: 0.5511 - accuracy: 0.7323 - val_loss: 0.5590 - val_accuracy: 0.7234\n",
            "Epoch 17/200\n",
            "644/644 [==============================] - 4s 6ms/step - loss: 0.5493 - accuracy: 0.7338 - val_loss: 0.5576 - val_accuracy: 0.7259\n",
            "Epoch 18/200\n",
            "644/644 [==============================] - 3s 5ms/step - loss: 0.5492 - accuracy: 0.7342 - val_loss: 0.5591 - val_accuracy: 0.7228\n",
            "Epoch 19/200\n",
            "644/644 [==============================] - 3s 5ms/step - loss: 0.5494 - accuracy: 0.7329 - val_loss: 0.5591 - val_accuracy: 0.7258\n",
            "Epoch 20/200\n",
            "644/644 [==============================] - 5s 8ms/step - loss: 0.5490 - accuracy: 0.7335 - val_loss: 0.5584 - val_accuracy: 0.7242\n",
            "Epoch 21/200\n",
            "644/644 [==============================] - 5s 8ms/step - loss: 0.5501 - accuracy: 0.7332 - val_loss: 0.5578 - val_accuracy: 0.7269\n",
            "Epoch 22/200\n",
            "644/644 [==============================] - 4s 7ms/step - loss: 0.5475 - accuracy: 0.7343 - val_loss: 0.5570 - val_accuracy: 0.7254\n",
            "Epoch 23/200\n",
            "644/644 [==============================] - 3s 5ms/step - loss: 0.5470 - accuracy: 0.7335 - val_loss: 0.5569 - val_accuracy: 0.7230\n",
            "Epoch 24/200\n",
            "644/644 [==============================] - 4s 6ms/step - loss: 0.5471 - accuracy: 0.7348 - val_loss: 0.5581 - val_accuracy: 0.7259\n",
            "Epoch 25/200\n",
            "644/644 [==============================] - 5s 7ms/step - loss: 0.5463 - accuracy: 0.7360 - val_loss: 0.5583 - val_accuracy: 0.7232\n",
            "Epoch 26/200\n",
            "644/644 [==============================] - 5s 8ms/step - loss: 0.5456 - accuracy: 0.7385 - val_loss: 0.5582 - val_accuracy: 0.7258\n",
            "Epoch 27/200\n",
            "644/644 [==============================] - 5s 8ms/step - loss: 0.5454 - accuracy: 0.7346 - val_loss: 0.5568 - val_accuracy: 0.7248\n",
            "Epoch 28/200\n",
            "644/644 [==============================] - 5s 9ms/step - loss: 0.5459 - accuracy: 0.7353 - val_loss: 0.5566 - val_accuracy: 0.7228\n",
            "Epoch 29/200\n",
            "644/644 [==============================] - 6s 9ms/step - loss: 0.5450 - accuracy: 0.7359 - val_loss: 0.5591 - val_accuracy: 0.7236\n",
            "Epoch 30/200\n",
            "644/644 [==============================] - 5s 8ms/step - loss: 0.5440 - accuracy: 0.7356 - val_loss: 0.5586 - val_accuracy: 0.7238\n",
            "Epoch 31/200\n",
            "644/644 [==============================] - 5s 8ms/step - loss: 0.5450 - accuracy: 0.7353 - val_loss: 0.5574 - val_accuracy: 0.7228\n",
            "Epoch 32/200\n",
            "644/644 [==============================] - 5s 8ms/step - loss: 0.5438 - accuracy: 0.7375 - val_loss: 0.5575 - val_accuracy: 0.7269\n",
            "Epoch 33/200\n",
            "644/644 [==============================] - 5s 8ms/step - loss: 0.5438 - accuracy: 0.7357 - val_loss: 0.5583 - val_accuracy: 0.7240\n",
            "Epoch 34/200\n",
            "644/644 [==============================] - 5s 8ms/step - loss: 0.5440 - accuracy: 0.7357 - val_loss: 0.5562 - val_accuracy: 0.7261\n",
            "Epoch 35/200\n",
            "644/644 [==============================] - 4s 7ms/step - loss: 0.5428 - accuracy: 0.7377 - val_loss: 0.5571 - val_accuracy: 0.7248\n",
            "Epoch 36/200\n",
            "644/644 [==============================] - 3s 5ms/step - loss: 0.5431 - accuracy: 0.7371 - val_loss: 0.5573 - val_accuracy: 0.7240\n",
            "Epoch 37/200\n",
            "644/644 [==============================] - 5s 8ms/step - loss: 0.5430 - accuracy: 0.7365 - val_loss: 0.5593 - val_accuracy: 0.7271\n",
            "Epoch 38/200\n",
            "644/644 [==============================] - 5s 7ms/step - loss: 0.5443 - accuracy: 0.7365 - val_loss: 0.5572 - val_accuracy: 0.7285\n",
            "Epoch 39/200\n",
            "644/644 [==============================] - 5s 8ms/step - loss: 0.5414 - accuracy: 0.7380 - val_loss: 0.5569 - val_accuracy: 0.7258\n",
            "Epoch 40/200\n",
            "644/644 [==============================] - 5s 8ms/step - loss: 0.5416 - accuracy: 0.7379 - val_loss: 0.5563 - val_accuracy: 0.7261\n",
            "Epoch 41/200\n",
            "644/644 [==============================] - 3s 4ms/step - loss: 0.5426 - accuracy: 0.7363 - val_loss: 0.5571 - val_accuracy: 0.7285\n",
            "Epoch 42/200\n",
            "644/644 [==============================] - 4s 7ms/step - loss: 0.5410 - accuracy: 0.7375 - val_loss: 0.5569 - val_accuracy: 0.7300\n",
            "Epoch 43/200\n",
            "644/644 [==============================] - 4s 6ms/step - loss: 0.5420 - accuracy: 0.7366 - val_loss: 0.5575 - val_accuracy: 0.7293\n",
            "Epoch 44/200\n",
            "644/644 [==============================] - 5s 8ms/step - loss: 0.5416 - accuracy: 0.7377 - val_loss: 0.5574 - val_accuracy: 0.7265\n",
            "Epoch 45/200\n",
            "644/644 [==============================] - 6s 9ms/step - loss: 0.5414 - accuracy: 0.7381 - val_loss: 0.5568 - val_accuracy: 0.7228\n",
            "Epoch 46/200\n",
            "644/644 [==============================] - 4s 6ms/step - loss: 0.5407 - accuracy: 0.7379 - val_loss: 0.5592 - val_accuracy: 0.7273\n",
            "Epoch 47/200\n",
            "644/644 [==============================] - 6s 10ms/step - loss: 0.5403 - accuracy: 0.7387 - val_loss: 0.5583 - val_accuracy: 0.7259\n",
            "Epoch 48/200\n",
            "644/644 [==============================] - 5s 7ms/step - loss: 0.5406 - accuracy: 0.7379 - val_loss: 0.5582 - val_accuracy: 0.7244\n",
            "Epoch 49/200\n",
            "644/644 [==============================] - 5s 7ms/step - loss: 0.5399 - accuracy: 0.7375 - val_loss: 0.5576 - val_accuracy: 0.7248\n",
            "Epoch 50/200\n",
            "644/644 [==============================] - 5s 8ms/step - loss: 0.5378 - accuracy: 0.7384 - val_loss: 0.5574 - val_accuracy: 0.7258\n",
            "Epoch 51/200\n",
            "644/644 [==============================] - 5s 7ms/step - loss: 0.5402 - accuracy: 0.7370 - val_loss: 0.5579 - val_accuracy: 0.7246\n",
            "Epoch 52/200\n",
            "644/644 [==============================] - 3s 5ms/step - loss: 0.5388 - accuracy: 0.7390 - val_loss: 0.5572 - val_accuracy: 0.7267\n",
            "Epoch 53/200\n",
            "644/644 [==============================] - 5s 8ms/step - loss: 0.5389 - accuracy: 0.7383 - val_loss: 0.5576 - val_accuracy: 0.7265\n",
            "Epoch 54/200\n",
            "644/644 [==============================] - 5s 7ms/step - loss: 0.5383 - accuracy: 0.7382 - val_loss: 0.5569 - val_accuracy: 0.7271\n",
            "268/268 - 0s - loss: 0.5497 - accuracy: 0.7279 - 401ms/epoch - 1ms/step\n",
            "Loss: 0.5496845245361328, Accuracy: 0.7279300093650818\n"
          ]
        }
      ]
    },
    {
      "cell_type": "code",
      "source": [
        "from tensorflow.keras.models import load_model\n",
        "\n",
        "nn_optimized.save(\"AlphabetSoupCharity_Optimization.h5\")\n",
        "\n",
        "# Load the model\n",
        "loaded_nn = load_model(\"AlphabetSoupCharity_Optimization.h5\")\n",
        "\n",
        "# Use the loaded model as you would the original\n",
        "loaded_nn.summary()\n"
      ],
      "metadata": {
        "colab": {
          "base_uri": "https://localhost:8080/"
        },
        "id": "IQFelniCP_y8",
        "outputId": "1c16930d-9901-405d-bc73-384609c51217"
      },
      "execution_count": 37,
      "outputs": [
        {
          "output_type": "stream",
          "name": "stderr",
          "text": [
            "/usr/local/lib/python3.10/dist-packages/keras/src/engine/training.py:3000: UserWarning: You are saving your model as an HDF5 file via `model.save()`. This file format is considered legacy. We recommend using instead the native Keras format, e.g. `model.save('my_model.keras')`.\n",
            "  saving_api.save_model(\n"
          ]
        },
        {
          "output_type": "stream",
          "name": "stdout",
          "text": [
            "Model: \"sequential_3\"\n",
            "_________________________________________________________________\n",
            " Layer (type)                Output Shape              Param #   \n",
            "=================================================================\n",
            " dense_9 (Dense)             (None, 128)               5632      \n",
            "                                                                 \n",
            " dropout (Dropout)           (None, 128)               0         \n",
            "                                                                 \n",
            " dense_10 (Dense)            (None, 64)                8256      \n",
            "                                                                 \n",
            " dropout_1 (Dropout)         (None, 64)                0         \n",
            "                                                                 \n",
            " dense_11 (Dense)            (None, 32)                2080      \n",
            "                                                                 \n",
            " dropout_2 (Dropout)         (None, 32)                0         \n",
            "                                                                 \n",
            " dense_12 (Dense)            (None, 16)                528       \n",
            "                                                                 \n",
            " dense_13 (Dense)            (None, 1)                 17        \n",
            "                                                                 \n",
            "=================================================================\n",
            "Total params: 16513 (64.50 KB)\n",
            "Trainable params: 16513 (64.50 KB)\n",
            "Non-trainable params: 0 (0.00 Byte)\n",
            "_________________________________________________________________\n"
          ]
        }
      ]
    }
  ]
}