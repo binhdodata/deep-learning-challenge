{
  "nbformat": 4,
  "nbformat_minor": 0,
  "metadata": {
    "colab": {
      "provenance": [],
      "toc_visible": true,
      "authorship_tag": "ABX9TyPpuRvcLfD1N2KWWYYd2RfR",
      "include_colab_link": true
    },
    "kernelspec": {
      "name": "python3",
      "display_name": "Python 3"
    },
    "language_info": {
      "name": "python"
    }
  },
  "cells": [
    {
      "cell_type": "markdown",
      "metadata": {
        "id": "view-in-github",
        "colab_type": "text"
      },
      "source": [
        "<a href=\"https://colab.research.google.com/github/binhdodata/deep-learning-challenge/blob/main/AlphabetSoupCharity_Optimization.ipynb\" target=\"_parent\"><img src=\"https://colab.research.google.com/assets/colab-badge.svg\" alt=\"Open In Colab\"/></a>"
      ]
    },
    {
      "cell_type": "code",
      "source": [
        "from google.colab import files\n",
        "uploaded = files.upload()\n"
      ],
      "metadata": {
        "colab": {
          "base_uri": "https://localhost:8080/",
          "height": 73
        },
        "id": "fiC_AtXcL33C",
        "outputId": "ef4816b1-b81f-4abb-a9b0-d71558086b5e"
      },
      "execution_count": 6,
      "outputs": [
        {
          "output_type": "display_data",
          "data": {
            "text/plain": [
              "<IPython.core.display.HTML object>"
            ],
            "text/html": [
              "\n",
              "     <input type=\"file\" id=\"files-27f4e118-4b75-4d3d-ace9-15c7cb31b8be\" name=\"files[]\" multiple disabled\n",
              "        style=\"border:none\" />\n",
              "     <output id=\"result-27f4e118-4b75-4d3d-ace9-15c7cb31b8be\">\n",
              "      Upload widget is only available when the cell has been executed in the\n",
              "      current browser session. Please rerun this cell to enable.\n",
              "      </output>\n",
              "      <script>// Copyright 2017 Google LLC\n",
              "//\n",
              "// Licensed under the Apache License, Version 2.0 (the \"License\");\n",
              "// you may not use this file except in compliance with the License.\n",
              "// You may obtain a copy of the License at\n",
              "//\n",
              "//      http://www.apache.org/licenses/LICENSE-2.0\n",
              "//\n",
              "// Unless required by applicable law or agreed to in writing, software\n",
              "// distributed under the License is distributed on an \"AS IS\" BASIS,\n",
              "// WITHOUT WARRANTIES OR CONDITIONS OF ANY KIND, either express or implied.\n",
              "// See the License for the specific language governing permissions and\n",
              "// limitations under the License.\n",
              "\n",
              "/**\n",
              " * @fileoverview Helpers for google.colab Python module.\n",
              " */\n",
              "(function(scope) {\n",
              "function span(text, styleAttributes = {}) {\n",
              "  const element = document.createElement('span');\n",
              "  element.textContent = text;\n",
              "  for (const key of Object.keys(styleAttributes)) {\n",
              "    element.style[key] = styleAttributes[key];\n",
              "  }\n",
              "  return element;\n",
              "}\n",
              "\n",
              "// Max number of bytes which will be uploaded at a time.\n",
              "const MAX_PAYLOAD_SIZE = 100 * 1024;\n",
              "\n",
              "function _uploadFiles(inputId, outputId) {\n",
              "  const steps = uploadFilesStep(inputId, outputId);\n",
              "  const outputElement = document.getElementById(outputId);\n",
              "  // Cache steps on the outputElement to make it available for the next call\n",
              "  // to uploadFilesContinue from Python.\n",
              "  outputElement.steps = steps;\n",
              "\n",
              "  return _uploadFilesContinue(outputId);\n",
              "}\n",
              "\n",
              "// This is roughly an async generator (not supported in the browser yet),\n",
              "// where there are multiple asynchronous steps and the Python side is going\n",
              "// to poll for completion of each step.\n",
              "// This uses a Promise to block the python side on completion of each step,\n",
              "// then passes the result of the previous step as the input to the next step.\n",
              "function _uploadFilesContinue(outputId) {\n",
              "  const outputElement = document.getElementById(outputId);\n",
              "  const steps = outputElement.steps;\n",
              "\n",
              "  const next = steps.next(outputElement.lastPromiseValue);\n",
              "  return Promise.resolve(next.value.promise).then((value) => {\n",
              "    // Cache the last promise value to make it available to the next\n",
              "    // step of the generator.\n",
              "    outputElement.lastPromiseValue = value;\n",
              "    return next.value.response;\n",
              "  });\n",
              "}\n",
              "\n",
              "/**\n",
              " * Generator function which is called between each async step of the upload\n",
              " * process.\n",
              " * @param {string} inputId Element ID of the input file picker element.\n",
              " * @param {string} outputId Element ID of the output display.\n",
              " * @return {!Iterable<!Object>} Iterable of next steps.\n",
              " */\n",
              "function* uploadFilesStep(inputId, outputId) {\n",
              "  const inputElement = document.getElementById(inputId);\n",
              "  inputElement.disabled = false;\n",
              "\n",
              "  const outputElement = document.getElementById(outputId);\n",
              "  outputElement.innerHTML = '';\n",
              "\n",
              "  const pickedPromise = new Promise((resolve) => {\n",
              "    inputElement.addEventListener('change', (e) => {\n",
              "      resolve(e.target.files);\n",
              "    });\n",
              "  });\n",
              "\n",
              "  const cancel = document.createElement('button');\n",
              "  inputElement.parentElement.appendChild(cancel);\n",
              "  cancel.textContent = 'Cancel upload';\n",
              "  const cancelPromise = new Promise((resolve) => {\n",
              "    cancel.onclick = () => {\n",
              "      resolve(null);\n",
              "    };\n",
              "  });\n",
              "\n",
              "  // Wait for the user to pick the files.\n",
              "  const files = yield {\n",
              "    promise: Promise.race([pickedPromise, cancelPromise]),\n",
              "    response: {\n",
              "      action: 'starting',\n",
              "    }\n",
              "  };\n",
              "\n",
              "  cancel.remove();\n",
              "\n",
              "  // Disable the input element since further picks are not allowed.\n",
              "  inputElement.disabled = true;\n",
              "\n",
              "  if (!files) {\n",
              "    return {\n",
              "      response: {\n",
              "        action: 'complete',\n",
              "      }\n",
              "    };\n",
              "  }\n",
              "\n",
              "  for (const file of files) {\n",
              "    const li = document.createElement('li');\n",
              "    li.append(span(file.name, {fontWeight: 'bold'}));\n",
              "    li.append(span(\n",
              "        `(${file.type || 'n/a'}) - ${file.size} bytes, ` +\n",
              "        `last modified: ${\n",
              "            file.lastModifiedDate ? file.lastModifiedDate.toLocaleDateString() :\n",
              "                                    'n/a'} - `));\n",
              "    const percent = span('0% done');\n",
              "    li.appendChild(percent);\n",
              "\n",
              "    outputElement.appendChild(li);\n",
              "\n",
              "    const fileDataPromise = new Promise((resolve) => {\n",
              "      const reader = new FileReader();\n",
              "      reader.onload = (e) => {\n",
              "        resolve(e.target.result);\n",
              "      };\n",
              "      reader.readAsArrayBuffer(file);\n",
              "    });\n",
              "    // Wait for the data to be ready.\n",
              "    let fileData = yield {\n",
              "      promise: fileDataPromise,\n",
              "      response: {\n",
              "        action: 'continue',\n",
              "      }\n",
              "    };\n",
              "\n",
              "    // Use a chunked sending to avoid message size limits. See b/62115660.\n",
              "    let position = 0;\n",
              "    do {\n",
              "      const length = Math.min(fileData.byteLength - position, MAX_PAYLOAD_SIZE);\n",
              "      const chunk = new Uint8Array(fileData, position, length);\n",
              "      position += length;\n",
              "\n",
              "      const base64 = btoa(String.fromCharCode.apply(null, chunk));\n",
              "      yield {\n",
              "        response: {\n",
              "          action: 'append',\n",
              "          file: file.name,\n",
              "          data: base64,\n",
              "        },\n",
              "      };\n",
              "\n",
              "      let percentDone = fileData.byteLength === 0 ?\n",
              "          100 :\n",
              "          Math.round((position / fileData.byteLength) * 100);\n",
              "      percent.textContent = `${percentDone}% done`;\n",
              "\n",
              "    } while (position < fileData.byteLength);\n",
              "  }\n",
              "\n",
              "  // All done.\n",
              "  yield {\n",
              "    response: {\n",
              "      action: 'complete',\n",
              "    }\n",
              "  };\n",
              "}\n",
              "\n",
              "scope.google = scope.google || {};\n",
              "scope.google.colab = scope.google.colab || {};\n",
              "scope.google.colab._files = {\n",
              "  _uploadFiles,\n",
              "  _uploadFilesContinue,\n",
              "};\n",
              "})(self);\n",
              "</script> "
            ]
          },
          "metadata": {}
        },
        {
          "output_type": "stream",
          "name": "stdout",
          "text": [
            "Saving charity_data.csv to charity_data.csv\n"
          ]
        }
      ]
    },
    {
      "cell_type": "markdown",
      "source": [
        "1. Import Dependencies and Load Data:"
      ],
      "metadata": {
        "id": "14EfIS_3MasT"
      }
    },
    {
      "cell_type": "code",
      "source": [
        "# Import dependencies\n",
        "import pandas as pd\n",
        "import numpy as np\n",
        "import tensorflow as tf\n",
        "from sklearn.model_selection import train_test_split\n",
        "from sklearn.preprocessing import StandardScaler, OneHotEncoder\n",
        "\n",
        "# Load data\n",
        "data_path = \"charity_data.csv\"\n",
        "df = pd.read_csv(data_path)\n"
      ],
      "metadata": {
        "id": "5LK_grQJMA3b"
      },
      "execution_count": 10,
      "outputs": []
    },
    {
      "cell_type": "markdown",
      "source": [
        "Preprocess the Data:"
      ],
      "metadata": {
        "id": "K-6Z3qCBMgSj"
      }
    },
    {
      "cell_type": "code",
      "source": [
        "# Drop non-beneficial columns\n",
        "df = df.drop(columns=['EIN', 'NAME'])\n",
        "\n",
        "# Binning the APPLICATION_TYPE column\n",
        "application_counts = df['APPLICATION_TYPE'].value_counts()\n",
        "\n",
        "# Determine which values to replace if counts are below a certain threshold\n",
        "threshold = 500\n",
        "application_to_replace = list(application_counts[application_counts < threshold].index)\n",
        "\n",
        "# Replace in dataframe\n",
        "for app in application_to_replace:\n",
        "    df['APPLICATION_TYPE'] = df['APPLICATION_TYPE'].replace(app, \"Other\")\n",
        "\n",
        "# Check to make sure binning was successful\n",
        "print(df['APPLICATION_TYPE'].value_counts())"
      ],
      "metadata": {
        "colab": {
          "base_uri": "https://localhost:8080/"
        },
        "id": "Vb74tB0dME5x",
        "outputId": "e4516026-4959-459e-e9f8-12b7b745e48b"
      },
      "execution_count": 11,
      "outputs": [
        {
          "output_type": "stream",
          "name": "stdout",
          "text": [
            "T3       27037\n",
            "T4        1542\n",
            "T6        1216\n",
            "T5        1173\n",
            "T19       1065\n",
            "T8         737\n",
            "T7         725\n",
            "T10        528\n",
            "Other      276\n",
            "Name: APPLICATION_TYPE, dtype: int64\n"
          ]
        }
      ]
    },
    {
      "cell_type": "markdown",
      "source": [
        "Binning the CLASSIFICATION column:\n"
      ],
      "metadata": {
        "id": "DMUuCUQWMw-u"
      }
    },
    {
      "cell_type": "code",
      "source": [
        "classification_counts = df['CLASSIFICATION'].value_counts()\n",
        "\n",
        "# Determine which values to replace if counts are below a certain threshold\n",
        "threshold = 1500  # You can adjust this threshold based on your understanding of the data\n",
        "classification_to_replace = list(classification_counts[classification_counts < threshold].index)\n",
        "\n",
        "# Replace in dataframe\n",
        "for cls in classification_to_replace:\n",
        "    df['CLASSIFICATION'] = df['CLASSIFICATION'].replace(cls, \"Other\")\n",
        "\n",
        "# Check to make sure binning was successful\n",
        "print(df['CLASSIFICATION'].value_counts())\n"
      ],
      "metadata": {
        "colab": {
          "base_uri": "https://localhost:8080/"
        },
        "id": "1MG2lrVVMx9s",
        "outputId": "bdf0cde1-8b9c-4719-8afb-20bc03718a2c"
      },
      "execution_count": 12,
      "outputs": [
        {
          "output_type": "stream",
          "name": "stdout",
          "text": [
            "C1000    17326\n",
            "C2000     6074\n",
            "C1200     4837\n",
            "Other     2261\n",
            "C3000     1918\n",
            "C2100     1883\n",
            "Name: CLASSIFICATION, dtype: int64\n"
          ]
        }
      ]
    },
    {
      "cell_type": "code",
      "source": [
        "# Encode categorical variables using one-hot encoding\n",
        "df_encoded = pd.get_dummies(df)\n",
        "\n",
        "# Split the dataset into features and target arrays\n",
        "y = df_encoded[\"IS_SUCCESSFUL\"].values\n",
        "X = df_encoded.drop([\"IS_SUCCESSFUL\"], 1).values\n",
        "\n",
        "# Split the dataset into training and testing sets\n",
        "X_train, X_test, y_train, y_test = train_test_split(X, y, random_state=78)\n",
        "\n",
        "# Scale the datasets\n",
        "scaler = StandardScaler()\n",
        "X_train_scaled = scaler.fit_transform(X_train)\n",
        "X_test_scaled = scaler.transform(X_test)"
      ],
      "metadata": {
        "colab": {
          "base_uri": "https://localhost:8080/"
        },
        "id": "3MZz9mTkM9E9",
        "outputId": "38c8c01f-8c76-428d-a9ef-1d209d641f2c"
      },
      "execution_count": 16,
      "outputs": [
        {
          "output_type": "stream",
          "name": "stderr",
          "text": [
            "<ipython-input-16-4601256e2d30>:6: FutureWarning: In a future version of pandas all arguments of DataFrame.drop except for the argument 'labels' will be keyword-only.\n",
            "  X = df_encoded.drop([\"IS_SUCCESSFUL\"], 1).values\n"
          ]
        }
      ]
    },
    {
      "cell_type": "markdown",
      "source": [
        "Design Neural Network Model"
      ],
      "metadata": {
        "id": "qM0do5k6NhQH"
      }
    },
    {
      "cell_type": "code",
      "source": [
        "# Initialize the model\n",
        "nn_optimized = tf.keras.models.Sequential()\n",
        "\n",
        "# Add input and hidden layers\n",
        "nn_optimized.add(tf.keras.layers.Dense(units=100, activation='relu', input_dim=len(X_train_scaled[0])))\n",
        "nn_optimized.add(tf.keras.layers.Dense(units=50, activation='relu'))\n",
        "nn_optimized.add(tf.keras.layers.Dense(units=30, activation='relu'))\n",
        "\n",
        "# Add output layer\n",
        "nn_optimized.add(tf.keras.layers.Dense(units=1, activation='sigmoid'))\n",
        "\n",
        "# Compile the model\n",
        "nn_optimized.compile(loss=\"binary_crossentropy\", optimizer=\"adam\", metrics=[\"accuracy\"])"
      ],
      "metadata": {
        "id": "MZw3uKXqNhtq"
      },
      "execution_count": 17,
      "outputs": []
    },
    {
      "cell_type": "markdown",
      "source": [
        "Train and Evaluate the Model"
      ],
      "metadata": {
        "id": "6KeGYhU1Nm6P"
      }
    },
    {
      "cell_type": "code",
      "source": [
        "# Train the model\n",
        "fit_model = nn_optimized.fit(X_train_scaled, y_train, epochs=100)  # you can adjust epochs based on performance\n",
        "\n",
        "# Evaluate the model's performance\n",
        "model_loss, model_accuracy = nn_optimized.evaluate(X_test_scaled, y_test, verbose=2)\n",
        "print(f\"Loss: {model_loss}, Accuracy: {model_accuracy}\")"
      ],
      "metadata": {
        "colab": {
          "base_uri": "https://localhost:8080/"
        },
        "id": "Su03PwfZNnvF",
        "outputId": "b5dcc741-eec2-44bc-e797-e44d952a358f"
      },
      "execution_count": 18,
      "outputs": [
        {
          "output_type": "stream",
          "name": "stdout",
          "text": [
            "Epoch 1/100\n",
            "804/804 [==============================] - 9s 6ms/step - loss: 0.5690 - accuracy: 0.7227\n",
            "Epoch 2/100\n",
            "804/804 [==============================] - 6s 8ms/step - loss: 0.5547 - accuracy: 0.7315\n",
            "Epoch 3/100\n",
            "804/804 [==============================] - 5s 6ms/step - loss: 0.5515 - accuracy: 0.7316\n",
            "Epoch 4/100\n",
            "804/804 [==============================] - 5s 5ms/step - loss: 0.5504 - accuracy: 0.7332\n",
            "Epoch 5/100\n",
            "804/804 [==============================] - 6s 7ms/step - loss: 0.5491 - accuracy: 0.7335\n",
            "Epoch 6/100\n",
            "804/804 [==============================] - 3s 4ms/step - loss: 0.5486 - accuracy: 0.7338\n",
            "Epoch 7/100\n",
            "804/804 [==============================] - 7s 8ms/step - loss: 0.5476 - accuracy: 0.7352\n",
            "Epoch 8/100\n",
            "804/804 [==============================] - 6s 7ms/step - loss: 0.5469 - accuracy: 0.7351\n",
            "Epoch 9/100\n",
            "804/804 [==============================] - 6s 8ms/step - loss: 0.5469 - accuracy: 0.7352\n",
            "Epoch 10/100\n",
            "804/804 [==============================] - 6s 7ms/step - loss: 0.5459 - accuracy: 0.7355\n",
            "Epoch 11/100\n",
            "804/804 [==============================] - 6s 7ms/step - loss: 0.5456 - accuracy: 0.7364\n",
            "Epoch 12/100\n",
            "804/804 [==============================] - 4s 5ms/step - loss: 0.5449 - accuracy: 0.7354\n",
            "Epoch 13/100\n",
            "804/804 [==============================] - 7s 8ms/step - loss: 0.5449 - accuracy: 0.7376\n",
            "Epoch 14/100\n",
            "804/804 [==============================] - 6s 7ms/step - loss: 0.5441 - accuracy: 0.7371\n",
            "Epoch 15/100\n",
            "804/804 [==============================] - 6s 7ms/step - loss: 0.5442 - accuracy: 0.7360\n",
            "Epoch 16/100\n",
            "804/804 [==============================] - 5s 6ms/step - loss: 0.5438 - accuracy: 0.7365\n",
            "Epoch 17/100\n",
            "804/804 [==============================] - 4s 5ms/step - loss: 0.5435 - accuracy: 0.7374\n",
            "Epoch 18/100\n",
            "804/804 [==============================] - 6s 7ms/step - loss: 0.5427 - accuracy: 0.7374\n",
            "Epoch 19/100\n",
            "804/804 [==============================] - 5s 6ms/step - loss: 0.5428 - accuracy: 0.7377\n",
            "Epoch 20/100\n",
            "804/804 [==============================] - 6s 7ms/step - loss: 0.5424 - accuracy: 0.7385\n",
            "Epoch 21/100\n",
            "804/804 [==============================] - 6s 7ms/step - loss: 0.5420 - accuracy: 0.7376\n",
            "Epoch 22/100\n",
            "804/804 [==============================] - 6s 7ms/step - loss: 0.5421 - accuracy: 0.7381\n",
            "Epoch 23/100\n",
            "804/804 [==============================] - 5s 7ms/step - loss: 0.5415 - accuracy: 0.7372\n",
            "Epoch 24/100\n",
            "804/804 [==============================] - 6s 7ms/step - loss: 0.5418 - accuracy: 0.7383\n",
            "Epoch 25/100\n",
            "804/804 [==============================] - 4s 5ms/step - loss: 0.5415 - accuracy: 0.7390\n",
            "Epoch 26/100\n",
            "804/804 [==============================] - 6s 7ms/step - loss: 0.5417 - accuracy: 0.7378\n",
            "Epoch 27/100\n",
            "804/804 [==============================] - 6s 7ms/step - loss: 0.5411 - accuracy: 0.7390\n",
            "Epoch 28/100\n",
            "804/804 [==============================] - 4s 5ms/step - loss: 0.5410 - accuracy: 0.7383\n",
            "Epoch 29/100\n",
            "804/804 [==============================] - 6s 8ms/step - loss: 0.5407 - accuracy: 0.7388\n",
            "Epoch 30/100\n",
            "804/804 [==============================] - 6s 7ms/step - loss: 0.5405 - accuracy: 0.7378\n",
            "Epoch 31/100\n",
            "804/804 [==============================] - 4s 5ms/step - loss: 0.5402 - accuracy: 0.7391\n",
            "Epoch 32/100\n",
            "804/804 [==============================] - 6s 7ms/step - loss: 0.5402 - accuracy: 0.7387\n",
            "Epoch 33/100\n",
            "804/804 [==============================] - 6s 8ms/step - loss: 0.5401 - accuracy: 0.7391\n",
            "Epoch 34/100\n",
            "804/804 [==============================] - 6s 7ms/step - loss: 0.5395 - accuracy: 0.7390\n",
            "Epoch 35/100\n",
            "804/804 [==============================] - 6s 7ms/step - loss: 0.5393 - accuracy: 0.7393\n",
            "Epoch 36/100\n",
            "804/804 [==============================] - 6s 7ms/step - loss: 0.5394 - accuracy: 0.7393\n",
            "Epoch 37/100\n",
            "804/804 [==============================] - 4s 5ms/step - loss: 0.5393 - accuracy: 0.7391\n",
            "Epoch 38/100\n",
            "804/804 [==============================] - 6s 7ms/step - loss: 0.5393 - accuracy: 0.7393\n",
            "Epoch 39/100\n",
            "804/804 [==============================] - 5s 6ms/step - loss: 0.5388 - accuracy: 0.7397\n",
            "Epoch 40/100\n",
            "804/804 [==============================] - 5s 6ms/step - loss: 0.5390 - accuracy: 0.7393\n",
            "Epoch 41/100\n",
            "804/804 [==============================] - 6s 7ms/step - loss: 0.5386 - accuracy: 0.7392\n",
            "Epoch 42/100\n",
            "804/804 [==============================] - 6s 7ms/step - loss: 0.5390 - accuracy: 0.7399\n",
            "Epoch 43/100\n",
            "804/804 [==============================] - 6s 7ms/step - loss: 0.5384 - accuracy: 0.7404\n",
            "Epoch 44/100\n",
            "804/804 [==============================] - 7s 8ms/step - loss: 0.5385 - accuracy: 0.7400\n",
            "Epoch 45/100\n",
            "804/804 [==============================] - 4s 5ms/step - loss: 0.5384 - accuracy: 0.7394\n",
            "Epoch 46/100\n",
            "804/804 [==============================] - 6s 8ms/step - loss: 0.5375 - accuracy: 0.7402\n",
            "Epoch 47/100\n",
            "804/804 [==============================] - 6s 7ms/step - loss: 0.5378 - accuracy: 0.7404\n",
            "Epoch 48/100\n",
            "804/804 [==============================] - 6s 8ms/step - loss: 0.5382 - accuracy: 0.7403\n",
            "Epoch 49/100\n",
            "804/804 [==============================] - 6s 8ms/step - loss: 0.5377 - accuracy: 0.7404\n",
            "Epoch 50/100\n",
            "804/804 [==============================] - 7s 9ms/step - loss: 0.5372 - accuracy: 0.7405\n",
            "Epoch 51/100\n",
            "804/804 [==============================] - 6s 7ms/step - loss: 0.5374 - accuracy: 0.7400\n",
            "Epoch 52/100\n",
            "804/804 [==============================] - 3s 4ms/step - loss: 0.5376 - accuracy: 0.7407\n",
            "Epoch 53/100\n",
            "804/804 [==============================] - 7s 8ms/step - loss: 0.5374 - accuracy: 0.7397\n",
            "Epoch 54/100\n",
            "804/804 [==============================] - 6s 7ms/step - loss: 0.5371 - accuracy: 0.7417\n",
            "Epoch 55/100\n",
            "804/804 [==============================] - 6s 7ms/step - loss: 0.5369 - accuracy: 0.7407\n",
            "Epoch 56/100\n",
            "804/804 [==============================] - 4s 5ms/step - loss: 0.5374 - accuracy: 0.7406\n",
            "Epoch 57/100\n",
            "804/804 [==============================] - 6s 8ms/step - loss: 0.5367 - accuracy: 0.7400\n",
            "Epoch 58/100\n",
            "804/804 [==============================] - 6s 7ms/step - loss: 0.5363 - accuracy: 0.7412\n",
            "Epoch 59/100\n",
            "804/804 [==============================] - 5s 6ms/step - loss: 0.5364 - accuracy: 0.7412\n",
            "Epoch 60/100\n",
            "804/804 [==============================] - 5s 6ms/step - loss: 0.5366 - accuracy: 0.7409\n",
            "Epoch 61/100\n",
            "804/804 [==============================] - 6s 7ms/step - loss: 0.5363 - accuracy: 0.7403\n",
            "Epoch 62/100\n",
            "804/804 [==============================] - 6s 7ms/step - loss: 0.5360 - accuracy: 0.7409\n",
            "Epoch 63/100\n",
            "804/804 [==============================] - 4s 5ms/step - loss: 0.5364 - accuracy: 0.7407\n",
            "Epoch 64/100\n",
            "804/804 [==============================] - 6s 8ms/step - loss: 0.5361 - accuracy: 0.7397\n",
            "Epoch 65/100\n",
            "804/804 [==============================] - 6s 7ms/step - loss: 0.5362 - accuracy: 0.7409\n",
            "Epoch 66/100\n",
            "804/804 [==============================] - 7s 8ms/step - loss: 0.5361 - accuracy: 0.7409\n",
            "Epoch 67/100\n",
            "804/804 [==============================] - 5s 6ms/step - loss: 0.5359 - accuracy: 0.7408\n",
            "Epoch 68/100\n",
            "804/804 [==============================] - 5s 7ms/step - loss: 0.5357 - accuracy: 0.7409\n",
            "Epoch 69/100\n",
            "804/804 [==============================] - 5s 6ms/step - loss: 0.5356 - accuracy: 0.7410\n",
            "Epoch 70/100\n",
            "804/804 [==============================] - 5s 6ms/step - loss: 0.5360 - accuracy: 0.7414\n",
            "Epoch 71/100\n",
            "804/804 [==============================] - 7s 9ms/step - loss: 0.5359 - accuracy: 0.7407\n",
            "Epoch 72/100\n",
            "804/804 [==============================] - 4s 5ms/step - loss: 0.5353 - accuracy: 0.7420\n",
            "Epoch 73/100\n",
            "804/804 [==============================] - 6s 8ms/step - loss: 0.5356 - accuracy: 0.7406\n",
            "Epoch 74/100\n",
            "804/804 [==============================] - 6s 7ms/step - loss: 0.5351 - accuracy: 0.7418\n",
            "Epoch 75/100\n",
            "804/804 [==============================] - 6s 8ms/step - loss: 0.5349 - accuracy: 0.7418\n",
            "Epoch 76/100\n",
            "804/804 [==============================] - 5s 6ms/step - loss: 0.5355 - accuracy: 0.7408\n",
            "Epoch 77/100\n",
            "804/804 [==============================] - 6s 7ms/step - loss: 0.5358 - accuracy: 0.7407\n",
            "Epoch 78/100\n",
            "804/804 [==============================] - 6s 7ms/step - loss: 0.5348 - accuracy: 0.7412\n",
            "Epoch 79/100\n",
            "804/804 [==============================] - 6s 7ms/step - loss: 0.5347 - accuracy: 0.7417\n",
            "Epoch 80/100\n",
            "804/804 [==============================] - 6s 7ms/step - loss: 0.5352 - accuracy: 0.7414\n",
            "Epoch 81/100\n",
            "804/804 [==============================] - 5s 6ms/step - loss: 0.5346 - accuracy: 0.7413\n",
            "Epoch 82/100\n",
            "804/804 [==============================] - 6s 7ms/step - loss: 0.5348 - accuracy: 0.7410\n",
            "Epoch 83/100\n",
            "804/804 [==============================] - 6s 8ms/step - loss: 0.5345 - accuracy: 0.7415\n",
            "Epoch 84/100\n",
            "804/804 [==============================] - 6s 7ms/step - loss: 0.5343 - accuracy: 0.7412\n",
            "Epoch 85/100\n",
            "804/804 [==============================] - 6s 7ms/step - loss: 0.5343 - accuracy: 0.7414\n",
            "Epoch 86/100\n",
            "804/804 [==============================] - 5s 6ms/step - loss: 0.5343 - accuracy: 0.7409\n",
            "Epoch 87/100\n",
            "804/804 [==============================] - 3s 4ms/step - loss: 0.5369 - accuracy: 0.7411\n",
            "Epoch 88/100\n",
            "804/804 [==============================] - 4s 5ms/step - loss: 0.5347 - accuracy: 0.7416\n",
            "Epoch 89/100\n",
            "804/804 [==============================] - 6s 8ms/step - loss: 0.5340 - accuracy: 0.7416\n",
            "Epoch 90/100\n",
            "804/804 [==============================] - 6s 8ms/step - loss: 0.5341 - accuracy: 0.7416\n",
            "Epoch 91/100\n",
            "804/804 [==============================] - 6s 7ms/step - loss: 0.5356 - accuracy: 0.7425\n",
            "Epoch 92/100\n",
            "804/804 [==============================] - 4s 5ms/step - loss: 0.5343 - accuracy: 0.7419\n",
            "Epoch 93/100\n",
            "804/804 [==============================] - 6s 8ms/step - loss: 0.5338 - accuracy: 0.7418\n",
            "Epoch 94/100\n",
            "804/804 [==============================] - 5s 6ms/step - loss: 0.5342 - accuracy: 0.7415\n",
            "Epoch 95/100\n",
            "804/804 [==============================] - 6s 8ms/step - loss: 0.5341 - accuracy: 0.7414\n",
            "Epoch 96/100\n",
            "804/804 [==============================] - 6s 7ms/step - loss: 0.5341 - accuracy: 0.7413\n",
            "Epoch 97/100\n",
            "804/804 [==============================] - 6s 8ms/step - loss: 0.5334 - accuracy: 0.7421\n",
            "Epoch 98/100\n",
            "804/804 [==============================] - 4s 5ms/step - loss: 0.5345 - accuracy: 0.7414\n",
            "Epoch 99/100\n",
            "804/804 [==============================] - 4s 5ms/step - loss: 0.5335 - accuracy: 0.7419\n",
            "Epoch 100/100\n",
            "804/804 [==============================] - 6s 7ms/step - loss: 0.5335 - accuracy: 0.7420\n",
            "268/268 - 1s - loss: 0.5661 - accuracy: 0.7258 - 553ms/epoch - 2ms/step\n",
            "Loss: 0.5661181211471558, Accuracy: 0.7258309125900269\n"
          ]
        }
      ]
    },
    {
      "cell_type": "code",
      "source": [
        "from tensorflow.keras.models import load_model\n",
        "\n",
        "# Load the model\n",
        "loaded_nn = load_model(\"AlphabetSoupCharity_Optimization.h5\")\n",
        "\n",
        "# Use the loaded model as you would the original\n",
        "loaded_nn.summary()\n"
      ],
      "metadata": {
        "colab": {
          "base_uri": "https://localhost:8080/"
        },
        "id": "IQFelniCP_y8",
        "outputId": "8cb5e3da-468f-43ac-e5ab-8b574789daa3"
      },
      "execution_count": 20,
      "outputs": [
        {
          "output_type": "stream",
          "name": "stdout",
          "text": [
            "Model: \"sequential\"\n",
            "_________________________________________________________________\n",
            " Layer (type)                Output Shape              Param #   \n",
            "=================================================================\n",
            " dense (Dense)               (None, 100)               4400      \n",
            "                                                                 \n",
            " dense_1 (Dense)             (None, 50)                5050      \n",
            "                                                                 \n",
            " dense_2 (Dense)             (None, 30)                1530      \n",
            "                                                                 \n",
            " dense_3 (Dense)             (None, 1)                 31        \n",
            "                                                                 \n",
            "=================================================================\n",
            "Total params: 11011 (43.01 KB)\n",
            "Trainable params: 11011 (43.01 KB)\n",
            "Non-trainable params: 0 (0.00 Byte)\n",
            "_________________________________________________________________\n"
          ]
        }
      ]
    }
  ]
}